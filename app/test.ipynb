{
 "cells": [
  {
   "cell_type": "code",
   "execution_count": 1,
   "id": "6187d8ca",
   "metadata": {},
   "outputs": [
    {
     "name": "stdout",
     "output_type": "stream",
     "text": [
      "Collecting yt-dlp\n",
      "  Downloading yt_dlp-2025.6.30-py3-none-any.whl.metadata (174 kB)\n",
      "Downloading yt_dlp-2025.6.30-py3-none-any.whl (3.3 MB)\n",
      "\u001b[2K   \u001b[90m━━━━━━━━━━━━━━━━━━━━━━━━━━━━━━━━━━━━━━━━\u001b[0m \u001b[32m3.3/3.3 MB\u001b[0m \u001b[31m24.7 MB/s\u001b[0m eta \u001b[36m0:00:00\u001b[0m\n",
      "\u001b[?25hInstalling collected packages: yt-dlp\n",
      "Successfully installed yt-dlp-2025.6.30\n"
     ]
    }
   ],
   "source": [
    "!pip install yt-dlp"
   ]
  },
  {
   "cell_type": "code",
   "execution_count": 2,
   "id": "ec26dfbc",
   "metadata": {},
   "outputs": [
    {
     "name": "stdout",
     "output_type": "stream",
     "text": [
      "[generic] Extracting URL: --f=/run/user/1000/jupyter/runtime/kernel-v3f2b27bc2eec330f4f871088dcd4cd01e287f922a.json\n"
     ]
    },
    {
     "name": "stderr",
     "output_type": "stream",
     "text": [
      "ERROR: [generic] '--f=/run/user/1000/jupyter/runtime/kernel-v3f2b27bc2eec330f4f871088dcd4cd01e287f922a.json' is not a valid URL. Set --default-search \"ytsearch\" (or run  yt-dlp \"ytsearch:--f=/run/user/1000/jupyter/runtime/kernel-v3f2b27bc2eec330f4f871088dcd4cd01e287f922a.json\" ) to search YouTube\n"
     ]
    },
    {
     "ename": "DownloadError",
     "evalue": "ERROR: [generic] '--f=/run/user/1000/jupyter/runtime/kernel-v3f2b27bc2eec330f4f871088dcd4cd01e287f922a.json' is not a valid URL. Set --default-search \"ytsearch\" (or run  yt-dlp \"ytsearch:--f=/run/user/1000/jupyter/runtime/kernel-v3f2b27bc2eec330f4f871088dcd4cd01e287f922a.json\" ) to search YouTube",
     "output_type": "error",
     "traceback": [
      "\u001b[31m---------------------------------------------------------------------------\u001b[39m",
      "\u001b[31mExtractorError\u001b[39m                            Traceback (most recent call last)",
      "\u001b[36mFile \u001b[39m\u001b[32m~/code/afip_filler/.conda/lib/python3.12/site-packages/yt_dlp/YoutubeDL.py:1662\u001b[39m, in \u001b[36mYoutubeDL._handle_extraction_exceptions.<locals>.wrapper\u001b[39m\u001b[34m(self, *args, **kwargs)\u001b[39m\n\u001b[32m   1661\u001b[39m \u001b[38;5;28;01mtry\u001b[39;00m:\n\u001b[32m-> \u001b[39m\u001b[32m1662\u001b[39m     \u001b[38;5;28;01mreturn\u001b[39;00m \u001b[43mfunc\u001b[49m\u001b[43m(\u001b[49m\u001b[38;5;28;43mself\u001b[39;49m\u001b[43m,\u001b[49m\u001b[43m \u001b[49m\u001b[43m*\u001b[49m\u001b[43margs\u001b[49m\u001b[43m,\u001b[49m\u001b[43m \u001b[49m\u001b[43m*\u001b[49m\u001b[43m*\u001b[49m\u001b[43mkwargs\u001b[49m\u001b[43m)\u001b[49m\n\u001b[32m   1663\u001b[39m \u001b[38;5;28;01mexcept\u001b[39;00m (CookieLoadError, DownloadCancelled, LazyList.IndexError, PagedList.IndexError):\n",
      "\u001b[36mFile \u001b[39m\u001b[32m~/code/afip_filler/.conda/lib/python3.12/site-packages/yt_dlp/YoutubeDL.py:1797\u001b[39m, in \u001b[36mYoutubeDL.__extract_info\u001b[39m\u001b[34m(self, url, ie, download, extra_info, process)\u001b[39m\n\u001b[32m   1796\u001b[39m \u001b[38;5;28;01mtry\u001b[39;00m:\n\u001b[32m-> \u001b[39m\u001b[32m1797\u001b[39m     ie_result = \u001b[43mie\u001b[49m\u001b[43m.\u001b[49m\u001b[43mextract\u001b[49m\u001b[43m(\u001b[49m\u001b[43murl\u001b[49m\u001b[43m)\u001b[49m\n\u001b[32m   1798\u001b[39m \u001b[38;5;28;01mexcept\u001b[39;00m UserNotLive \u001b[38;5;28;01mas\u001b[39;00m e:\n",
      "\u001b[36mFile \u001b[39m\u001b[32m~/code/afip_filler/.conda/lib/python3.12/site-packages/yt_dlp/extractor/common.py:752\u001b[39m, in \u001b[36mInfoExtractor.extract\u001b[39m\u001b[34m(self, url)\u001b[39m\n\u001b[32m    750\u001b[39m \u001b[38;5;28mself\u001b[39m.to_screen(\u001b[33m'\u001b[39m\u001b[33mExtracting URL: \u001b[39m\u001b[38;5;132;01m%s\u001b[39;00m\u001b[33m'\u001b[39m % (\n\u001b[32m    751\u001b[39m     url \u001b[38;5;28;01mif\u001b[39;00m \u001b[38;5;28mself\u001b[39m.get_param(\u001b[33m'\u001b[39m\u001b[33mverbose\u001b[39m\u001b[33m'\u001b[39m) \u001b[38;5;28;01melse\u001b[39;00m truncate_string(url, \u001b[32m100\u001b[39m, \u001b[32m20\u001b[39m)))\n\u001b[32m--> \u001b[39m\u001b[32m752\u001b[39m ie_result = \u001b[38;5;28;43mself\u001b[39;49m\u001b[43m.\u001b[49m\u001b[43m_real_extract\u001b[49m\u001b[43m(\u001b[49m\u001b[43murl\u001b[49m\u001b[43m)\u001b[49m\n\u001b[32m    753\u001b[39m \u001b[38;5;28;01mif\u001b[39;00m ie_result \u001b[38;5;129;01mis\u001b[39;00m \u001b[38;5;28;01mNone\u001b[39;00m:\n",
      "\u001b[36mFile \u001b[39m\u001b[32m~/code/afip_filler/.conda/lib/python3.12/site-packages/yt_dlp/extractor/generic.py:2386\u001b[39m, in \u001b[36mGenericIE._real_extract\u001b[39m\u001b[34m(self, url)\u001b[39m\n\u001b[32m   2385\u001b[39m \u001b[38;5;28;01mif\u001b[39;00m default_search \u001b[38;5;129;01min\u001b[39;00m (\u001b[33m'\u001b[39m\u001b[33merror\u001b[39m\u001b[33m'\u001b[39m, \u001b[33m'\u001b[39m\u001b[33mfixup_error\u001b[39m\u001b[33m'\u001b[39m):\n\u001b[32m-> \u001b[39m\u001b[32m2386\u001b[39m     \u001b[38;5;28;01mraise\u001b[39;00m ExtractorError(\n\u001b[32m   2387\u001b[39m         \u001b[33mf\u001b[39m\u001b[33m'\u001b[39m\u001b[38;5;132;01m{\u001b[39;00murl\u001b[38;5;132;01m!r}\u001b[39;00m\u001b[33m is not a valid URL. \u001b[39m\u001b[33m'\u001b[39m\n\u001b[32m   2388\u001b[39m         \u001b[33mf\u001b[39m\u001b[33m'\u001b[39m\u001b[33mSet --default-search \u001b[39m\u001b[33m\"\u001b[39m\u001b[33mytsearch\u001b[39m\u001b[33m\"\u001b[39m\u001b[33m (or run  yt-dlp \u001b[39m\u001b[33m\"\u001b[39m\u001b[33mytsearch:\u001b[39m\u001b[38;5;132;01m{\u001b[39;00murl\u001b[38;5;132;01m}\u001b[39;00m\u001b[33m\"\u001b[39m\u001b[33m ) to search YouTube\u001b[39m\u001b[33m'\u001b[39m, expected=\u001b[38;5;28;01mTrue\u001b[39;00m)\n\u001b[32m   2389\u001b[39m \u001b[38;5;28;01melse\u001b[39;00m:\n",
      "\u001b[31mExtractorError\u001b[39m: [generic] '--f=/run/user/1000/jupyter/runtime/kernel-v3f2b27bc2eec330f4f871088dcd4cd01e287f922a.json' is not a valid URL. Set --default-search \"ytsearch\" (or run  yt-dlp \"ytsearch:--f=/run/user/1000/jupyter/runtime/kernel-v3f2b27bc2eec330f4f871088dcd4cd01e287f922a.json\" ) to search YouTube",
      "\nDuring handling of the above exception, another exception occurred:\n",
      "\u001b[31mDownloadError\u001b[39m                             Traceback (most recent call last)",
      "\u001b[36mCell\u001b[39m\u001b[36m \u001b[39m\u001b[32mIn[2]\u001b[39m\u001b[32m, line 19\u001b[39m\n\u001b[32m     17\u001b[39m     \u001b[38;5;28mprint\u001b[39m(\u001b[33mf\u001b[39m\u001b[33m\"\u001b[39m\u001b[33mИспользование: \u001b[39m\u001b[38;5;132;01m{\u001b[39;00msys.argv[\u001b[32m0\u001b[39m]\u001b[38;5;132;01m}\u001b[39;00m\u001b[33m https://www.instagram.com/reel/DHRfYowM8JG/?igsh=cjBnNGNkOWNoamVn\u001b[39m\u001b[33m\"\u001b[39m)\n\u001b[32m     18\u001b[39m     sys.exit(\u001b[32m1\u001b[39m)\n\u001b[32m---> \u001b[39m\u001b[32m19\u001b[39m \u001b[43mdownload_reel\u001b[49m\u001b[43m(\u001b[49m\u001b[43msys\u001b[49m\u001b[43m.\u001b[49m\u001b[43margv\u001b[49m\u001b[43m[\u001b[49m\u001b[32;43m1\u001b[39;49m\u001b[43m]\u001b[49m\u001b[43m)\u001b[49m\n",
      "\u001b[36mCell\u001b[39m\u001b[36m \u001b[39m\u001b[32mIn[2]\u001b[39m\u001b[32m, line 11\u001b[39m, in \u001b[36mdownload_reel\u001b[39m\u001b[34m(url)\u001b[39m\n\u001b[32m      5\u001b[39m ydl_opts = {\n\u001b[32m      6\u001b[39m     \u001b[33m'\u001b[39m\u001b[33mformat\u001b[39m\u001b[33m'\u001b[39m: \u001b[33m'\u001b[39m\u001b[33mbestvideo+bestaudio/best\u001b[39m\u001b[33m'\u001b[39m,\n\u001b[32m      7\u001b[39m     \u001b[33m'\u001b[39m\u001b[33mouttmpl\u001b[39m\u001b[33m'\u001b[39m: \u001b[33m'\u001b[39m\u001b[38;5;132;01m%(id)s\u001b[39;00m\u001b[33m.\u001b[39m\u001b[38;5;132;01m%(ext)s\u001b[39;00m\u001b[33m'\u001b[39m,  \u001b[38;5;66;03m# сохранить под именем <ID>.mp4\u001b[39;00m\n\u001b[32m      8\u001b[39m     \u001b[33m'\u001b[39m\u001b[33mquiet\u001b[39m\u001b[33m'\u001b[39m: \u001b[38;5;28;01mFalse\u001b[39;00m,               \u001b[38;5;66;03m# показывать прогресс\u001b[39;00m\n\u001b[32m      9\u001b[39m }\n\u001b[32m     10\u001b[39m \u001b[38;5;28;01mwith\u001b[39;00m YoutubeDL(ydl_opts) \u001b[38;5;28;01mas\u001b[39;00m ydl:\n\u001b[32m---> \u001b[39m\u001b[32m11\u001b[39m     info = \u001b[43mydl\u001b[49m\u001b[43m.\u001b[49m\u001b[43mextract_info\u001b[49m\u001b[43m(\u001b[49m\u001b[43murl\u001b[49m\u001b[43m,\u001b[49m\u001b[43m \u001b[49m\u001b[43mdownload\u001b[49m\u001b[43m=\u001b[49m\u001b[38;5;28;43;01mTrue\u001b[39;49;00m\u001b[43m)\u001b[49m\n\u001b[32m     12\u001b[39m     description = info.get(\u001b[33m'\u001b[39m\u001b[33mdescription\u001b[39m\u001b[33m'\u001b[39m, \u001b[33m'\u001b[39m\u001b[33m'\u001b[39m).strip()\n\u001b[32m     13\u001b[39m     \u001b[38;5;28mprint\u001b[39m(\u001b[33mf\u001b[39m\u001b[33m\"\u001b[39m\u001b[38;5;130;01m\\n\u001b[39;00m\u001b[33mОписание ролика:\u001b[39m\u001b[38;5;130;01m\\n\u001b[39;00m\u001b[38;5;132;01m{\u001b[39;00mdescription\u001b[38;5;132;01m}\u001b[39;00m\u001b[33m\"\u001b[39m)\n",
      "\u001b[36mFile \u001b[39m\u001b[32m~/code/afip_filler/.conda/lib/python3.12/site-packages/yt_dlp/YoutubeDL.py:1651\u001b[39m, in \u001b[36mYoutubeDL.extract_info\u001b[39m\u001b[34m(self, url, download, ie_key, extra_info, process, force_generic_extractor)\u001b[39m\n\u001b[32m   1649\u001b[39m             \u001b[38;5;28;01mraise\u001b[39;00m ExistingVideoReached\n\u001b[32m   1650\u001b[39m         \u001b[38;5;28;01mbreak\u001b[39;00m\n\u001b[32m-> \u001b[39m\u001b[32m1651\u001b[39m     \u001b[38;5;28;01mreturn\u001b[39;00m \u001b[38;5;28;43mself\u001b[39;49m\u001b[43m.\u001b[49m\u001b[43m__extract_info\u001b[49m\u001b[43m(\u001b[49m\u001b[43murl\u001b[49m\u001b[43m,\u001b[49m\u001b[43m \u001b[49m\u001b[38;5;28;43mself\u001b[39;49m\u001b[43m.\u001b[49m\u001b[43mget_info_extractor\u001b[49m\u001b[43m(\u001b[49m\u001b[43mkey\u001b[49m\u001b[43m)\u001b[49m\u001b[43m,\u001b[49m\u001b[43m \u001b[49m\u001b[43mdownload\u001b[49m\u001b[43m,\u001b[49m\u001b[43m \u001b[49m\u001b[43mextra_info\u001b[49m\u001b[43m,\u001b[49m\u001b[43m \u001b[49m\u001b[43mprocess\u001b[49m\u001b[43m)\u001b[49m\n\u001b[32m   1652\u001b[39m \u001b[38;5;28;01melse\u001b[39;00m:\n\u001b[32m   1653\u001b[39m     extractors_restricted = \u001b[38;5;28mself\u001b[39m.params.get(\u001b[33m'\u001b[39m\u001b[33mallowed_extractors\u001b[39m\u001b[33m'\u001b[39m) \u001b[38;5;129;01mnot\u001b[39;00m \u001b[38;5;129;01min\u001b[39;00m (\u001b[38;5;28;01mNone\u001b[39;00m, [\u001b[33m'\u001b[39m\u001b[33mdefault\u001b[39m\u001b[33m'\u001b[39m])\n",
      "\u001b[36mFile \u001b[39m\u001b[32m~/code/afip_filler/.conda/lib/python3.12/site-packages/yt_dlp/YoutubeDL.py:1680\u001b[39m, in \u001b[36mYoutubeDL._handle_extraction_exceptions.<locals>.wrapper\u001b[39m\u001b[34m(self, *args, **kwargs)\u001b[39m\n\u001b[32m   1678\u001b[39m     \u001b[38;5;28mself\u001b[39m.report_error(msg)\n\u001b[32m   1679\u001b[39m \u001b[38;5;28;01mexcept\u001b[39;00m ExtractorError \u001b[38;5;28;01mas\u001b[39;00m e:  \u001b[38;5;66;03m# An error we somewhat expected\u001b[39;00m\n\u001b[32m-> \u001b[39m\u001b[32m1680\u001b[39m     \u001b[38;5;28;43mself\u001b[39;49m\u001b[43m.\u001b[49m\u001b[43mreport_error\u001b[49m\u001b[43m(\u001b[49m\u001b[38;5;28;43mstr\u001b[39;49m\u001b[43m(\u001b[49m\u001b[43me\u001b[49m\u001b[43m)\u001b[49m\u001b[43m,\u001b[49m\u001b[43m \u001b[49m\u001b[43me\u001b[49m\u001b[43m.\u001b[49m\u001b[43mformat_traceback\u001b[49m\u001b[43m(\u001b[49m\u001b[43m)\u001b[49m\u001b[43m)\u001b[49m\n\u001b[32m   1681\u001b[39m \u001b[38;5;28;01mexcept\u001b[39;00m \u001b[38;5;167;01mException\u001b[39;00m \u001b[38;5;28;01mas\u001b[39;00m e:\n\u001b[32m   1682\u001b[39m     \u001b[38;5;28;01mif\u001b[39;00m \u001b[38;5;28mself\u001b[39m.params.get(\u001b[33m'\u001b[39m\u001b[33mignoreerrors\u001b[39m\u001b[33m'\u001b[39m):\n",
      "\u001b[36mFile \u001b[39m\u001b[32m~/code/afip_filler/.conda/lib/python3.12/site-packages/yt_dlp/YoutubeDL.py:1120\u001b[39m, in \u001b[36mYoutubeDL.report_error\u001b[39m\u001b[34m(self, message, *args, **kwargs)\u001b[39m\n\u001b[32m   1115\u001b[39m \u001b[38;5;28;01mdef\u001b[39;00m\u001b[38;5;250m \u001b[39m\u001b[34mreport_error\u001b[39m(\u001b[38;5;28mself\u001b[39m, message, *args, **kwargs):\n\u001b[32m   1116\u001b[39m \u001b[38;5;250m    \u001b[39m\u001b[33;03m\"\"\"\u001b[39;00m\n\u001b[32m   1117\u001b[39m \u001b[33;03m    Do the same as trouble, but prefixes the message with 'ERROR:', colored\u001b[39;00m\n\u001b[32m   1118\u001b[39m \u001b[33;03m    in red if stderr is a tty file.\u001b[39;00m\n\u001b[32m   1119\u001b[39m \u001b[33;03m    \"\"\"\u001b[39;00m\n\u001b[32m-> \u001b[39m\u001b[32m1120\u001b[39m     \u001b[38;5;28;43mself\u001b[39;49m\u001b[43m.\u001b[49m\u001b[43mtrouble\u001b[49m\u001b[43m(\u001b[49m\u001b[33;43mf\u001b[39;49m\u001b[33;43m'\u001b[39;49m\u001b[38;5;132;43;01m{\u001b[39;49;00m\u001b[38;5;28;43mself\u001b[39;49m\u001b[43m.\u001b[49m\u001b[43m_format_err\u001b[49m\u001b[43m(\u001b[49m\u001b[33;43m\"\u001b[39;49m\u001b[33;43mERROR:\u001b[39;49m\u001b[33;43m\"\u001b[39;49m\u001b[43m,\u001b[49m\u001b[38;5;250;43m \u001b[39;49m\u001b[38;5;28;43mself\u001b[39;49m\u001b[43m.\u001b[49m\u001b[43mStyles\u001b[49m\u001b[43m.\u001b[49m\u001b[43mERROR\u001b[49m\u001b[43m)\u001b[49m\u001b[38;5;132;43;01m}\u001b[39;49;00m\u001b[33;43m \u001b[39;49m\u001b[38;5;132;43;01m{\u001b[39;49;00m\u001b[43mmessage\u001b[49m\u001b[38;5;132;43;01m}\u001b[39;49;00m\u001b[33;43m'\u001b[39;49m\u001b[43m,\u001b[49m\u001b[43m \u001b[49m\u001b[43m*\u001b[49m\u001b[43margs\u001b[49m\u001b[43m,\u001b[49m\u001b[43m \u001b[49m\u001b[43m*\u001b[49m\u001b[43m*\u001b[49m\u001b[43mkwargs\u001b[49m\u001b[43m)\u001b[49m\n",
      "\u001b[36mFile \u001b[39m\u001b[32m~/code/afip_filler/.conda/lib/python3.12/site-packages/yt_dlp/YoutubeDL.py:1059\u001b[39m, in \u001b[36mYoutubeDL.trouble\u001b[39m\u001b[34m(self, message, tb, is_error)\u001b[39m\n\u001b[32m   1057\u001b[39m     \u001b[38;5;28;01melse\u001b[39;00m:\n\u001b[32m   1058\u001b[39m         exc_info = sys.exc_info()\n\u001b[32m-> \u001b[39m\u001b[32m1059\u001b[39m     \u001b[38;5;28;01mraise\u001b[39;00m DownloadError(message, exc_info)\n\u001b[32m   1060\u001b[39m \u001b[38;5;28mself\u001b[39m._download_retcode = \u001b[32m1\u001b[39m\n",
      "\u001b[31mDownloadError\u001b[39m: ERROR: [generic] '--f=/run/user/1000/jupyter/runtime/kernel-v3f2b27bc2eec330f4f871088dcd4cd01e287f922a.json' is not a valid URL. Set --default-search \"ytsearch\" (or run  yt-dlp \"ytsearch:--f=/run/user/1000/jupyter/runtime/kernel-v3f2b27bc2eec330f4f871088dcd4cd01e287f922a.json\" ) to search YouTube"
     ]
    }
   ],
   "source": [
    "import sys\n",
    "from yt_dlp import YoutubeDL\n",
    "\n",
    "def download_reel(url: str):\n",
    "    ydl_opts = {\n",
    "        'format': 'bestvideo+bestaudio/best',\n",
    "        'outtmpl': '%(id)s.%(ext)s',  # сохранить под именем <ID>.mp4\n",
    "        'quiet': False,               # показывать прогресс\n",
    "    }\n",
    "    with YoutubeDL(ydl_opts) as ydl:\n",
    "        info = ydl.extract_info(url, download=True)\n",
    "        description = info.get('description', '').strip()\n",
    "        print(f\"\\nОписание ролика:\\n{description}\")\n",
    "\n",
    "if __name__ == '__main__':\n",
    "    if len(sys.argv) != 2:\n",
    "        print(f\"Использование: {sys.argv[0]} https://www.instagram.com/reel/DHRfYowM8JG/?igsh=cjBnNGNkOWNoamVn\")\n",
    "        sys.exit(1)\n",
    "    download_reel(sys.argv[1])"
   ]
  },
  {
   "cell_type": "code",
   "execution_count": null,
   "id": "41dd0b4d",
   "metadata": {},
   "outputs": [],
   "source": []
  }
 ],
 "metadata": {
  "kernelspec": {
   "display_name": "Python 3",
   "language": "python",
   "name": "python3"
  },
  "language_info": {
   "codemirror_mode": {
    "name": "ipython",
    "version": 3
   },
   "file_extension": ".py",
   "mimetype": "text/x-python",
   "name": "python",
   "nbconvert_exporter": "python",
   "pygments_lexer": "ipython3",
   "version": "3.12.11"
  }
 },
 "nbformat": 4,
 "nbformat_minor": 5
}
